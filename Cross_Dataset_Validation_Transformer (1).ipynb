{
  "cells": [
    {
      "cell_type": "code",
      "execution_count": null,
      "metadata": {
        "colab": {
          "base_uri": "https://localhost:8080/"
        },
        "id": "BR_M2xTB16nu",
        "outputId": "ab3c7fa9-5cfe-447e-957c-ac79a3820c65"
      },
      "outputs": [
        {
          "output_type": "stream",
          "name": "stdout",
          "text": [
            "Mounted at /content/drive\n"
          ]
        }
      ],
      "source": [
        "from google.colab import drive\n",
        "drive.mount('/content/drive')"
      ]
    },
    {
      "cell_type": "markdown",
      "metadata": {
        "id": "LKK5D0Dce6G_"
      },
      "source": []
    },
    {
      "cell_type": "code",
      "source": [
        "import numpy as np\n",
        "import pandas as pd\n",
        "from sklearn.model_selection import train_test_split\n",
        "from sklearn.preprocessing import StandardScaler, LabelEncoder\n",
        "from imblearn.over_sampling import SMOTE\n",
        "from tensorflow.keras.models import Model\n",
        "from tensorflow.keras.layers import (\n",
        "    Dense, Dropout, Input, LayerNormalization, MultiHeadAttention, Add, Flatten, Reshape\n",
        ")\n",
        "from tensorflow.keras.callbacks import EarlyStopping, ReduceLROnPlateau\n",
        "from tensorflow.keras.regularizers import l2\n",
        "from sklearn.utils.class_weight import compute_class_weight\n",
        "from sklearn.metrics import classification_report, confusion_matrix\n",
        "import matplotlib.pyplot as plt\n",
        "\n",
        "\n",
        "# Step 1: Load and preprocess data\n",
        "def load_and_preprocess_data(file_path, label_column=' Label'):\n",
        "    data = pd.read_csv(file_path)\n",
        "\n",
        "    # Check if label column exists\n",
        "    if label_column not in data.columns:\n",
        "        raise KeyError(f\"The specified label column '{label_column}' is missing in the dataset.\")\n",
        "\n",
        "    # Encode target labels for kddcup99 dataset (update this logic for different label meanings)\n",
        "    if label_column.lower() == 'label':\n",
        "        data[label_column] = data[label_column].apply(lambda x: 1 if 'attack' in str(x).lower() else 0)\n",
        "    else:\n",
        "        data[label_column] = data[label_column].apply(lambda x: 1 if x.strip() == 'Bot' else 0)\n",
        "\n",
        "    # Handle non-numeric columns\n",
        "    non_numeric_cols = data.select_dtypes(exclude=[np.number]).columns\n",
        "    if len(non_numeric_cols) > 0:\n",
        "        print(f\"Encoding non-numeric columns: {non_numeric_cols}\")\n",
        "        for col in non_numeric_cols:\n",
        "            encoder = LabelEncoder()\n",
        "            data[col] = encoder.fit_transform(data[col])\n",
        "\n",
        "    # Handle missing and infinite values\n",
        "    data.replace([np.inf, -np.inf], np.nan, inplace=True)\n",
        "    data.fillna(data.mean(), inplace=True)\n",
        "\n",
        "    # Select numeric columns only\n",
        "    numeric_cols = data.select_dtypes(include=[np.number]).columns\n",
        "    data = data[numeric_cols]\n",
        "\n",
        "    # Split features and labels\n",
        "    X = data.drop(columns=[label_column])\n",
        "    y = data[label_column]\n",
        "    return X, y\n",
        "\n",
        "\n",
        "# Step 2: Balance the training data using SMOTE\n",
        "def balance_training_data(X_train, y_train):\n",
        "    smote = SMOTE(random_state=42)\n",
        "    X_train_smote, y_train_smote = smote.fit_resample(X_train, y_train)\n",
        "    print(\"Class distribution after SMOTE:\", np.unique(y_train_smote, return_counts=True))\n",
        "    return X_train_smote, y_train_smote\n",
        "\n",
        "\n",
        "# Step 3: Build Transformer-based model\n",
        "def build_transformer_model(input_dim, num_heads=4, key_dim=64, dense_units=128, dropout_rate=0.4):\n",
        "    inputs = Input(shape=(input_dim,))\n",
        "    reshaped_inputs = Reshape((1, input_dim))(inputs)\n",
        "    x = Dense(dense_units, activation='relu', kernel_regularizer=l2(1e-4))(reshaped_inputs)\n",
        "    x = Dropout(dropout_rate)(x)\n",
        "    norm1 = LayerNormalization()(x)\n",
        "    attn_output = MultiHeadAttention(num_heads=num_heads, key_dim=key_dim)(norm1, norm1)\n",
        "    attn_output = Add()([x, attn_output])\n",
        "    norm2 = LayerNormalization()(attn_output)\n",
        "    dense_output = Dense(dense_units, activation='relu', kernel_regularizer=l2(1e-4))(norm2)\n",
        "    dense_output = Add()([attn_output, dense_output])\n",
        "    flatten_output = Flatten()(dense_output)\n",
        "    x = Dense(dense_units // 2, activation='relu', kernel_regularizer=l2(1e-4))(flatten_output)\n",
        "    x = Dropout(dropout_rate)(x)\n",
        "    outputs = Dense(1, activation='sigmoid')(x)  # Binary classification\n",
        "    model = Model(inputs=inputs, outputs=outputs)\n",
        "    model.compile(optimizer='adam', loss='binary_crossentropy', metrics=['accuracy'])\n",
        "    return model\n",
        "\n",
        "\n",
        "# Step 4: Train the model\n",
        "def train_model(model, X_train, y_train, X_val, y_val, class_weights):\n",
        "    early_stopping = EarlyStopping(monitor='val_loss', patience=10, restore_best_weights=True)\n",
        "    lr_scheduler = ReduceLROnPlateau(monitor='val_loss', factor=0.5, patience=5, min_lr=1e-6, verbose=1)\n",
        "    history = model.fit(\n",
        "        X_train, y_train,\n",
        "        validation_data=(X_val, y_val),\n",
        "        epochs=50,\n",
        "        batch_size=256,\n",
        "        class_weight=class_weights,\n",
        "        callbacks=[early_stopping, lr_scheduler]\n",
        "    )\n",
        "    return history\n",
        "\n",
        "\n",
        "# Step 5: Evaluate on Cross Dataset\n",
        "def evaluate_on_cross_dataset(model, X_test, y_test):\n",
        "    y_pred = (model.predict(X_test) > 0.5).astype(int)\n",
        "    print(\"\\nCross Dataset Classification Report:\")\n",
        "    print(classification_report(y_test, y_pred))\n",
        "\n",
        "    print(\"\\nCross Dataset Confusion Matrix:\")\n",
        "    conf_matrix = confusion_matrix(y_test, y_pred)\n",
        "    print(conf_matrix)\n",
        "\n",
        "    plt.figure(figsize=(8, 6))\n",
        "    plt.title(\"Confusion Matrix\")\n",
        "    plt.imshow(conf_matrix, interpolation='nearest', cmap='Blues')\n",
        "    plt.colorbar()\n",
        "    plt.xticks([0, 1], [\"Benign\", \"Bot\"])\n",
        "    plt.yticks([0, 1], [\"Benign\", \"Bot\"])\n",
        "    plt.xlabel(\"Predicted Label\")\n",
        "    plt.ylabel(\"True Label\")\n",
        "    plt.show()\n",
        "\n",
        "\n",
        "# Align features of the cross dataset with training dataset\n",
        "def align_features(X_train, X_test):\n",
        "    \"\"\"\n",
        "    Aligns the columns of X_test to match X_train.\n",
        "    Missing columns in X_test are filled with zeros.\n",
        "    Extra columns in X_test are dropped.\n",
        "    \"\"\"\n",
        "    X_test_aligned = X_test.reindex(columns=X_train.columns, fill_value=0)\n",
        "    return X_test_aligned\n",
        "\n",
        "\n",
        "# Main Script\n",
        "if __name__ == \"__main__\":\n",
        "    # Dataset 1 (Training and Validation)\n",
        "    file_path_train = '/content/drive/MyDrive/archive/merged_dst.csv'\n",
        "    X, y = load_and_preprocess_data(file_path_train)\n",
        "\n",
        "    # Split data into train+validation and test sets\n",
        "    X_temp, X_test, y_temp, y_test = train_test_split(X, y, test_size=0.3, stratify=y, random_state=42)\n",
        "\n",
        "    # Split train+validation into training and validation sets\n",
        "    X_train, X_val, y_train, y_val = train_test_split(X_temp, y_temp, test_size=0.3, stratify=y_temp, random_state=42)\n",
        "\n",
        "    # Standardize the data\n",
        "    scaler = StandardScaler()\n",
        "    X_train = scaler.fit_transform(X_train)\n",
        "    X_val = scaler.transform(X_val)\n",
        "    X_test = scaler.transform(X_test)\n",
        "\n",
        "    # Balance the training data\n",
        "    X_train, y_train = balance_training_data(X_train, y_train)\n",
        "\n",
        "    # Compute class weights\n",
        "    class_weights = compute_class_weight(\"balanced\", classes=np.unique(y_train), y=y_train)\n",
        "    class_weights = dict(enumerate(class_weights))\n",
        "\n",
        "    # Build and train the model\n",
        "    model = build_transformer_model(input_dim=X_train.shape[1])\n",
        "    history = train_model(model, X_train, y_train, X_val, y_val, class_weights)\n",
        "\n",
        "    # Dataset 2 (Cross Dataset Validation)\n",
        "    file_path_test = '/content/drive/MyDrive/kddcup99.csv'\n",
        "    X_cross, y_cross = load_and_preprocess_data(file_path_test, label_column='label')\n",
        "\n",
        "    # Align features\n",
        "    X_cross = align_features(pd.DataFrame(X, columns=X.columns), pd.DataFrame(X_cross))\n",
        "    X_cross = scaler.transform(X_cross)  # Use the scaler fitted on the training dataset\n",
        "\n",
        "    # Evaluate on cross dataset\n",
        "    evaluate_on_cross_dataset(model, X_cross, y_cross)\n"
      ],
      "metadata": {
        "id": "A6fgHD1bkg1Y",
        "colab": {
          "base_uri": "https://localhost:8080/",
          "height": 1000
        },
        "outputId": "8a14bbc5-8085-44de-8c9a-1cb5d495a63c"
      },
      "execution_count": null,
      "outputs": [
        {
          "output_type": "stream",
          "name": "stdout",
          "text": [
            "Class distribution after SMOTE: (array([0, 1]), array([1386101, 1386101]))\n",
            "Epoch 1/50\n"
          ]
        },
        {
          "output_type": "stream",
          "name": "stderr",
          "text": [
            "/usr/local/lib/python3.10/dist-packages/keras/src/ops/nn.py:545: UserWarning: You are using a softmax over axis 3 of a tensor of shape (None, 4, 1, 1). This axis has size 1. The softmax operation will always return the value 1, which is likely not what you intended. Did you mean to use a sigmoid instead?\n",
            "  warnings.warn(\n"
          ]
        },
        {
          "output_type": "stream",
          "name": "stdout",
          "text": [
            "\u001b[1m10829/10829\u001b[0m \u001b[32m━━━━━━━━━━━━━━━━━━━━\u001b[0m\u001b[37m\u001b[0m \u001b[1m37s\u001b[0m 3ms/step - accuracy: 0.9811 - loss: 0.0758 - val_accuracy: 0.9737 - val_loss: 0.0680 - learning_rate: 0.0010\n",
            "Epoch 2/50\n",
            "\u001b[1m10829/10829\u001b[0m \u001b[32m━━━━━━━━━━━━━━━━━━━━\u001b[0m\u001b[37m\u001b[0m \u001b[1m27s\u001b[0m 3ms/step - accuracy: 0.9855 - loss: 0.0512 - val_accuracy: 0.9834 - val_loss: 0.0613 - learning_rate: 0.0010\n",
            "Epoch 3/50\n",
            "\u001b[1m10829/10829\u001b[0m \u001b[32m━━━━━━━━━━━━━━━━━━━━\u001b[0m\u001b[37m\u001b[0m \u001b[1m27s\u001b[0m 3ms/step - accuracy: 0.9875 - loss: 0.0497 - val_accuracy: 0.9883 - val_loss: 0.0415 - learning_rate: 0.0010\n",
            "Epoch 4/50\n",
            "\u001b[1m10829/10829\u001b[0m \u001b[32m━━━━━━━━━━━━━━━━━━━━\u001b[0m\u001b[37m\u001b[0m \u001b[1m27s\u001b[0m 2ms/step - accuracy: 0.9878 - loss: 0.0444 - val_accuracy: 0.9776 - val_loss: 0.0694 - learning_rate: 0.0010\n",
            "Epoch 5/50\n",
            "\u001b[1m10829/10829\u001b[0m \u001b[32m━━━━━━━━━━━━━━━━━━━━\u001b[0m\u001b[37m\u001b[0m \u001b[1m27s\u001b[0m 3ms/step - accuracy: 0.9869 - loss: 0.0448 - val_accuracy: 0.9883 - val_loss: 0.0373 - learning_rate: 0.0010\n",
            "Epoch 6/50\n",
            "\u001b[1m10829/10829\u001b[0m \u001b[32m━━━━━━━━━━━━━━━━━━━━\u001b[0m\u001b[37m\u001b[0m \u001b[1m27s\u001b[0m 2ms/step - accuracy: 0.9867 - loss: 0.0470 - val_accuracy: 0.9844 - val_loss: 0.0486 - learning_rate: 0.0010\n",
            "Epoch 7/50\n",
            "\u001b[1m10829/10829\u001b[0m \u001b[32m━━━━━━━━━━━━━━━━━━━━\u001b[0m\u001b[37m\u001b[0m \u001b[1m27s\u001b[0m 2ms/step - accuracy: 0.9856 - loss: 0.0456 - val_accuracy: 0.9890 - val_loss: 0.0445 - learning_rate: 0.0010\n",
            "Epoch 8/50\n",
            "\u001b[1m10829/10829\u001b[0m \u001b[32m━━━━━━━━━━━━━━━━━━━━\u001b[0m\u001b[37m\u001b[0m \u001b[1m27s\u001b[0m 2ms/step - accuracy: 0.9886 - loss: 0.0427 - val_accuracy: 0.9852 - val_loss: 0.0555 - learning_rate: 0.0010\n",
            "Epoch 9/50\n",
            "\u001b[1m10829/10829\u001b[0m \u001b[32m━━━━━━━━━━━━━━━━━━━━\u001b[0m\u001b[37m\u001b[0m \u001b[1m27s\u001b[0m 2ms/step - accuracy: 0.9884 - loss: 0.0412 - val_accuracy: 0.9867 - val_loss: 0.0481 - learning_rate: 0.0010\n",
            "Epoch 10/50\n",
            "\u001b[1m10816/10829\u001b[0m \u001b[32m━━━━━━━━━━━━━━━━━━━\u001b[0m\u001b[37m━\u001b[0m \u001b[1m0s\u001b[0m 2ms/step - accuracy: 0.9885 - loss: 0.0422\n",
            "Epoch 10: ReduceLROnPlateau reducing learning rate to 0.0005000000237487257.\n",
            "\u001b[1m10829/10829\u001b[0m \u001b[32m━━━━━━━━━━━━━━━━━━━━\u001b[0m\u001b[37m\u001b[0m \u001b[1m27s\u001b[0m 2ms/step - accuracy: 0.9885 - loss: 0.0422 - val_accuracy: 0.9875 - val_loss: 0.0492 - learning_rate: 0.0010\n",
            "Epoch 11/50\n",
            "\u001b[1m10829/10829\u001b[0m \u001b[32m━━━━━━━━━━━━━━━━━━━━\u001b[0m\u001b[37m\u001b[0m \u001b[1m27s\u001b[0m 3ms/step - accuracy: 0.9905 - loss: 0.0371 - val_accuracy: 0.9884 - val_loss: 0.0422 - learning_rate: 5.0000e-04\n",
            "Epoch 12/50\n",
            "\u001b[1m10829/10829\u001b[0m \u001b[32m━━━━━━━━━━━━━━━━━━━━\u001b[0m\u001b[37m\u001b[0m \u001b[1m27s\u001b[0m 2ms/step - accuracy: 0.9906 - loss: 0.0343 - val_accuracy: 0.9886 - val_loss: 0.0446 - learning_rate: 5.0000e-04\n",
            "Epoch 13/50\n",
            "\u001b[1m10829/10829\u001b[0m \u001b[32m━━━━━━━━━━━━━━━━━━━━\u001b[0m\u001b[37m\u001b[0m \u001b[1m27s\u001b[0m 2ms/step - accuracy: 0.9919 - loss: 0.0325 - val_accuracy: 0.9894 - val_loss: 0.0369 - learning_rate: 5.0000e-04\n",
            "Epoch 14/50\n",
            "\u001b[1m10829/10829\u001b[0m \u001b[32m━━━━━━━━━━━━━━━━━━━━\u001b[0m\u001b[37m\u001b[0m \u001b[1m27s\u001b[0m 2ms/step - accuracy: 0.9917 - loss: 0.0330 - val_accuracy: 0.9889 - val_loss: 0.0393 - learning_rate: 5.0000e-04\n",
            "Epoch 15/50\n",
            "\u001b[1m10829/10829\u001b[0m \u001b[32m━━━━━━━━━━━━━━━━━━━━\u001b[0m\u001b[37m\u001b[0m \u001b[1m27s\u001b[0m 2ms/step - accuracy: 0.9914 - loss: 0.0329 - val_accuracy: 0.9890 - val_loss: 0.0403 - learning_rate: 5.0000e-04\n",
            "Epoch 16/50\n",
            "\u001b[1m10829/10829\u001b[0m \u001b[32m━━━━━━━━━━━━━━━━━━━━\u001b[0m\u001b[37m\u001b[0m \u001b[1m27s\u001b[0m 2ms/step - accuracy: 0.9918 - loss: 0.0327 - val_accuracy: 0.9881 - val_loss: 0.0432 - learning_rate: 5.0000e-04\n",
            "Epoch 17/50\n",
            "\u001b[1m10829/10829\u001b[0m \u001b[32m━━━━━━━━━━━━━━━━━━━━\u001b[0m\u001b[37m\u001b[0m \u001b[1m27s\u001b[0m 2ms/step - accuracy: 0.9915 - loss: 0.0330 - val_accuracy: 0.9887 - val_loss: 0.0449 - learning_rate: 5.0000e-04\n",
            "Epoch 18/50\n",
            "\u001b[1m10824/10829\u001b[0m \u001b[32m━━━━━━━━━━━━━━━━━━━\u001b[0m\u001b[37m━\u001b[0m \u001b[1m0s\u001b[0m 2ms/step - accuracy: 0.9916 - loss: 0.0334\n",
            "Epoch 18: ReduceLROnPlateau reducing learning rate to 0.0002500000118743628.\n",
            "\u001b[1m10829/10829\u001b[0m \u001b[32m━━━━━━━━━━━━━━━━━━━━\u001b[0m\u001b[37m\u001b[0m \u001b[1m27s\u001b[0m 2ms/step - accuracy: 0.9916 - loss: 0.0334 - val_accuracy: 0.9888 - val_loss: 0.0427 - learning_rate: 5.0000e-04\n",
            "Epoch 19/50\n",
            "\u001b[1m10829/10829\u001b[0m \u001b[32m━━━━━━━━━━━━━━━━━━━━\u001b[0m\u001b[37m\u001b[0m \u001b[1m27s\u001b[0m 2ms/step - accuracy: 0.9929 - loss: 0.0296 - val_accuracy: 0.9899 - val_loss: 0.0376 - learning_rate: 2.5000e-04\n",
            "Epoch 20/50\n",
            "\u001b[1m10829/10829\u001b[0m \u001b[32m━━━━━━━━━━━━━━━━━━━━\u001b[0m\u001b[37m\u001b[0m \u001b[1m27s\u001b[0m 2ms/step - accuracy: 0.9931 - loss: 0.0285 - val_accuracy: 0.9895 - val_loss: 0.0368 - learning_rate: 2.5000e-04\n",
            "Epoch 21/50\n",
            "\u001b[1m10829/10829\u001b[0m \u001b[32m━━━━━━━━━━━━━━━━━━━━\u001b[0m\u001b[37m\u001b[0m \u001b[1m27s\u001b[0m 2ms/step - accuracy: 0.9932 - loss: 0.0284 - val_accuracy: 0.9892 - val_loss: 0.0409 - learning_rate: 2.5000e-04\n",
            "Epoch 22/50\n",
            "\u001b[1m10829/10829\u001b[0m \u001b[32m━━━━━━━━━━━━━━━━━━━━\u001b[0m\u001b[37m\u001b[0m \u001b[1m27s\u001b[0m 2ms/step - accuracy: 0.9932 - loss: 0.0282 - val_accuracy: 0.9893 - val_loss: 0.0371 - learning_rate: 2.5000e-04\n",
            "Epoch 23/50\n",
            "\u001b[1m10829/10829\u001b[0m \u001b[32m━━━━━━━━━━━━━━━━━━━━\u001b[0m\u001b[37m\u001b[0m \u001b[1m27s\u001b[0m 2ms/step - accuracy: 0.9933 - loss: 0.0277 - val_accuracy: 0.9898 - val_loss: 0.0349 - learning_rate: 2.5000e-04\n",
            "Epoch 24/50\n",
            "\u001b[1m10829/10829\u001b[0m \u001b[32m━━━━━━━━━━━━━━━━━━━━\u001b[0m\u001b[37m\u001b[0m \u001b[1m27s\u001b[0m 2ms/step - accuracy: 0.9934 - loss: 0.0275 - val_accuracy: 0.9896 - val_loss: 0.0345 - learning_rate: 2.5000e-04\n",
            "Epoch 25/50\n",
            "\u001b[1m10829/10829\u001b[0m \u001b[32m━━━━━━━━━━━━━━━━━━━━\u001b[0m\u001b[37m\u001b[0m \u001b[1m26s\u001b[0m 2ms/step - accuracy: 0.9933 - loss: 0.0278 - val_accuracy: 0.9896 - val_loss: 0.0357 - learning_rate: 2.5000e-04\n",
            "Epoch 26/50\n",
            "\u001b[1m10829/10829\u001b[0m \u001b[32m━━━━━━━━━━━━━━━━━━━━\u001b[0m\u001b[37m\u001b[0m \u001b[1m27s\u001b[0m 2ms/step - accuracy: 0.9934 - loss: 0.0276 - val_accuracy: 0.9897 - val_loss: 0.0345 - learning_rate: 2.5000e-04\n",
            "Epoch 27/50\n",
            "\u001b[1m10829/10829\u001b[0m \u001b[32m━━━━━━━━━━━━━━━━━━━━\u001b[0m\u001b[37m\u001b[0m \u001b[1m26s\u001b[0m 2ms/step - accuracy: 0.9933 - loss: 0.0276 - val_accuracy: 0.9899 - val_loss: 0.0346 - learning_rate: 2.5000e-04\n",
            "Epoch 28/50\n",
            "\u001b[1m10829/10829\u001b[0m \u001b[32m━━━━━━━━━━━━━━━━━━━━\u001b[0m\u001b[37m\u001b[0m \u001b[1m26s\u001b[0m 2ms/step - accuracy: 0.9933 - loss: 0.0275 - val_accuracy: 0.9895 - val_loss: 0.0321 - learning_rate: 2.5000e-04\n",
            "Epoch 29/50\n",
            "\u001b[1m10829/10829\u001b[0m \u001b[32m━━━━━━━━━━━━━━━━━━━━\u001b[0m\u001b[37m\u001b[0m \u001b[1m27s\u001b[0m 2ms/step - accuracy: 0.9934 - loss: 0.0273 - val_accuracy: 0.9892 - val_loss: 0.0393 - learning_rate: 2.5000e-04\n",
            "Epoch 30/50\n",
            "\u001b[1m10829/10829\u001b[0m \u001b[32m━━━━━━━━━━━━━━━━━━━━\u001b[0m\u001b[37m\u001b[0m \u001b[1m26s\u001b[0m 2ms/step - accuracy: 0.9932 - loss: 0.0284 - val_accuracy: 0.9902 - val_loss: 0.0318 - learning_rate: 2.5000e-04\n",
            "Epoch 31/50\n",
            "\u001b[1m10829/10829\u001b[0m \u001b[32m━━━━━━━━━━━━━━━━━━━━\u001b[0m\u001b[37m\u001b[0m \u001b[1m26s\u001b[0m 2ms/step - accuracy: 0.9934 - loss: 0.0274 - val_accuracy: 0.9899 - val_loss: 0.0364 - learning_rate: 2.5000e-04\n",
            "Epoch 32/50\n",
            "\u001b[1m10829/10829\u001b[0m \u001b[32m━━━━━━━━━━━━━━━━━━━━\u001b[0m\u001b[37m\u001b[0m \u001b[1m27s\u001b[0m 2ms/step - accuracy: 0.9933 - loss: 0.0277 - val_accuracy: 0.9888 - val_loss: 0.0384 - learning_rate: 2.5000e-04\n",
            "Epoch 33/50\n",
            "\u001b[1m10829/10829\u001b[0m \u001b[32m━━━━━━━━━━━━━━━━━━━━\u001b[0m\u001b[37m\u001b[0m \u001b[1m27s\u001b[0m 2ms/step - accuracy: 0.9934 - loss: 0.0272 - val_accuracy: 0.9893 - val_loss: 0.0352 - learning_rate: 2.5000e-04\n",
            "Epoch 34/50\n",
            "\u001b[1m10829/10829\u001b[0m \u001b[32m━━━━━━━━━━━━━━━━━━━━\u001b[0m\u001b[37m\u001b[0m \u001b[1m27s\u001b[0m 2ms/step - accuracy: 0.9933 - loss: 0.0282 - val_accuracy: 0.9894 - val_loss: 0.0369 - learning_rate: 2.5000e-04\n",
            "Epoch 35/50\n",
            "\u001b[1m10813/10829\u001b[0m \u001b[32m━━━━━━━━━━━━━━━━━━━\u001b[0m\u001b[37m━\u001b[0m \u001b[1m0s\u001b[0m 2ms/step - accuracy: 0.9933 - loss: 0.0276\n",
            "Epoch 35: ReduceLROnPlateau reducing learning rate to 0.0001250000059371814.\n",
            "\u001b[1m10829/10829\u001b[0m \u001b[32m━━━━━━━━━━━━━━━━━━━━\u001b[0m\u001b[37m\u001b[0m \u001b[1m27s\u001b[0m 2ms/step - accuracy: 0.9933 - loss: 0.0276 - val_accuracy: 0.9904 - val_loss: 0.0356 - learning_rate: 2.5000e-04\n",
            "Epoch 36/50\n",
            "\u001b[1m10829/10829\u001b[0m \u001b[32m━━━━━━━━━━━━━━━━━━━━\u001b[0m\u001b[37m\u001b[0m \u001b[1m26s\u001b[0m 2ms/step - accuracy: 0.9940 - loss: 0.0253 - val_accuracy: 0.9898 - val_loss: 0.0364 - learning_rate: 1.2500e-04\n",
            "Epoch 37/50\n",
            "\u001b[1m10829/10829\u001b[0m \u001b[32m━━━━━━━━━━━━━━━━━━━━\u001b[0m\u001b[37m\u001b[0m \u001b[1m26s\u001b[0m 2ms/step - accuracy: 0.9940 - loss: 0.0253 - val_accuracy: 0.9898 - val_loss: 0.0334 - learning_rate: 1.2500e-04\n",
            "Epoch 38/50\n",
            "\u001b[1m10829/10829\u001b[0m \u001b[32m━━━━━━━━━━━━━━━━━━━━\u001b[0m\u001b[37m\u001b[0m \u001b[1m27s\u001b[0m 2ms/step - accuracy: 0.9940 - loss: 0.0250 - val_accuracy: 0.9899 - val_loss: 0.0341 - learning_rate: 1.2500e-04\n",
            "Epoch 39/50\n",
            "\u001b[1m10829/10829\u001b[0m \u001b[32m━━━━━━━━━━━━━━━━━━━━\u001b[0m\u001b[37m\u001b[0m \u001b[1m27s\u001b[0m 2ms/step - accuracy: 0.9939 - loss: 0.0251 - val_accuracy: 0.9896 - val_loss: 0.0342 - learning_rate: 1.2500e-04\n",
            "Epoch 40/50\n",
            "\u001b[1m10822/10829\u001b[0m \u001b[32m━━━━━━━━━━━━━━━━━━━\u001b[0m\u001b[37m━\u001b[0m \u001b[1m0s\u001b[0m 2ms/step - accuracy: 0.9939 - loss: 0.0252\n",
            "Epoch 40: ReduceLROnPlateau reducing learning rate to 6.25000029685907e-05.\n",
            "\u001b[1m10829/10829\u001b[0m \u001b[32m━━━━━━━━━━━━━━━━━━━━\u001b[0m\u001b[37m\u001b[0m \u001b[1m26s\u001b[0m 2ms/step - accuracy: 0.9939 - loss: 0.0252 - val_accuracy: 0.9901 - val_loss: 0.0334 - learning_rate: 1.2500e-04\n",
            "Encoding non-numeric columns: Index(['protocol_type', 'service', 'flag'], dtype='object')\n"
          ]
        },
        {
          "output_type": "stream",
          "name": "stderr",
          "text": [
            "/usr/local/lib/python3.10/dist-packages/keras/src/ops/nn.py:545: UserWarning: You are using a softmax over axis 3 of a tensor of shape (32, 4, 1, 1). This axis has size 1. The softmax operation will always return the value 1, which is likely not what you intended. Did you mean to use a sigmoid instead?\n",
            "  warnings.warn(\n"
          ]
        },
        {
          "output_type": "stream",
          "name": "stdout",
          "text": [
            "\u001b[1m15422/15439\u001b[0m \u001b[32m━━━━━━━━━━━━━━━━━━━\u001b[0m\u001b[37m━\u001b[0m \u001b[1m0s\u001b[0m 1ms/step"
          ]
        },
        {
          "output_type": "stream",
          "name": "stderr",
          "text": [
            "/usr/local/lib/python3.10/dist-packages/keras/src/ops/nn.py:545: UserWarning: You are using a softmax over axis 3 of a tensor of shape (None, 4, 1, 1). This axis has size 1. The softmax operation will always return the value 1, which is likely not what you intended. Did you mean to use a sigmoid instead?\n",
            "  warnings.warn(\n"
          ]
        },
        {
          "output_type": "stream",
          "name": "stdout",
          "text": [
            "\u001b[1m15439/15439\u001b[0m \u001b[32m━━━━━━━━━━━━━━━━━━━━\u001b[0m\u001b[37m\u001b[0m \u001b[1m19s\u001b[0m 1ms/step\n",
            "\n",
            "Cross Dataset Classification Report:\n",
            "              precision    recall  f1-score   support\n",
            "\n",
            "           0       1.00      1.00      1.00    494020\n",
            "\n",
            "    accuracy                           1.00    494020\n",
            "   macro avg       1.00      1.00      1.00    494020\n",
            "weighted avg       1.00      1.00      1.00    494020\n",
            "\n",
            "\n",
            "Cross Dataset Confusion Matrix:\n",
            "[[494020]]\n"
          ]
        },
        {
          "output_type": "stream",
          "name": "stderr",
          "text": [
            "/usr/local/lib/python3.10/dist-packages/sklearn/metrics/_classification.py:409: UserWarning: A single label was found in 'y_true' and 'y_pred'. For the confusion matrix to have the correct shape, use the 'labels' parameter to pass all known labels.\n",
            "  warnings.warn(\n"
          ]
        },
        {
          "output_type": "display_data",
          "data": {
            "text/plain": [
              "<Figure size 800x600 with 2 Axes>"
            ],
            "image/png": "[encoded data removed]"
          },
          "metadata": {}
        }
      ]
    },
    {
      "cell_type": "code",
      "source": [
        "# Check column names in kddcup99.csv\n",
        "file_path_test = '/content/drive/MyDrive/kddcup99.csv'\n",
        "data = pd.read_csv(file_path_test)\n",
        "print(data.columns)\n"
      ],
      "metadata": {
        "colab": {
          "base_uri": "https://localhost:8080/"
        },
        "id": "ZXcsnePbxlqb",
        "outputId": "609898f3-2c4d-4613-b93c-b23eb76034cb"
      },
      "execution_count": null,
      "outputs": [
        {
          "output_type": "stream",
          "name": "stdout",
          "text": [
            "Index(['duration', 'protocol_type', 'service', 'flag', 'src_bytes',\n",
            "       'dst_bytes', 'land', 'wrong_fragment', 'urgent', 'hot',\n",
            "       'num_failed_logins', 'logged_in', 'lnum_compromised', 'lroot_shell',\n",
            "       'lsu_attempted', 'lnum_root', 'lnum_file_creations', 'lnum_shells',\n",
            "       'lnum_access_files', 'lnum_outbound_cmds', 'is_host_login',\n",
            "       'is_guest_login', 'count', 'srv_count', 'serror_rate',\n",
            "       'srv_serror_rate', 'rerror_rate', 'srv_rerror_rate', 'same_srv_rate',\n",
            "       'diff_srv_rate', 'srv_diff_host_rate', 'dst_host_count',\n",
            "       'dst_host_srv_count', 'dst_host_same_srv_rate',\n",
            "       'dst_host_diff_srv_rate', 'dst_host_same_src_port_rate',\n",
            "       'dst_host_srv_diff_host_rate', 'dst_host_serror_rate',\n",
            "       'dst_host_srv_serror_rate', 'dst_host_rerror_rate',\n",
            "       'dst_host_srv_rerror_rate', 'label'],\n",
            "      dtype='object')\n"
          ]
        }
      ]
    },
    {
      "cell_type": "code",
      "source": [
        "import pandas as pd\n",
        "\n",
        "# Load the dataset\n",
        "file_path_test = '/content/drive/MyDrive/kddcup99.csv'\n",
        "data = pd.read_csv(file_path_test)\n",
        "\n",
        "# Check unique labels in the dataset\n",
        "label_column = 'label'  # Update this to the actual column name if different\n",
        "if label_column in data.columns:\n",
        "    unique_labels = data[label_column].unique()\n",
        "    print(\"Unique labels in the dataset:\")\n",
        "    print(unique_labels)\n",
        "else:\n",
        "    print(f\"The specified label column '{label_column}' is missing in the dataset.\")\n"
      ],
      "metadata": {
        "colab": {
          "base_uri": "https://localhost:8080/"
        },
        "id": "6tebLxKv5OBO",
        "outputId": "3a49b7e0-5a10-4713-acd5-d085c77c8e68"
      },
      "execution_count": null,
      "outputs": [
        {
          "output_type": "stream",
          "name": "stdout",
          "text": [
            "Unique labels in the dataset:\n",
            "['normal' 'buffer_overflow' 'loadmodule' 'perl' 'neptune' 'smurf'\n",
            " 'guess_passwd' 'pod' 'teardrop' 'portsweep' 'ipsweep' 'land' 'ftp_write'\n",
            " 'back' 'imap' 'satan' 'phf' 'nmap' 'multihop' 'warezmaster' 'warezclient'\n",
            " 'spy' 'rootkit']\n"
          ]
        }
      ]
    },
    {
      "cell_type": "code",
      "source": [],
      "metadata": {
        "id": "sEq9lmSoGO9o"
      },
      "execution_count": null,
      "outputs": []
    }
  ],
  "metadata": {
    "accelerator": "GPU",
    "colab": {
      "gpuType": "T4",
      "machine_shape": "hm",
      "provenance": []
    },
    "kernelspec": {
      "display_name": "Python 3",
      "name": "python3"
    },
    "language_info": {
      "name": "python"
    }
  },
  "nbformat": 4,
  "nbformat_minor": 0
}